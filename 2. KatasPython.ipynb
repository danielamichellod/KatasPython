{
 "cells": [
  {
   "cell_type": "code",
   "execution_count": null,
   "id": "0c409265",
   "metadata": {},
   "outputs": [
    {
     "name": "stdout",
     "output_type": "stream",
     "text": [
      "{'e': 3, 's': 2, 't': 1, 'o': 1, 'u': 2, 'n': 1, 'a': 2, 'p': 1, 'r': 1, 'b': 1}\n"
     ]
    }
   ],
   "source": [
    "# 1. Escribe una función que reciba una cadena de texto como parámetro y devuelva un diccionario con las frecuencias de cada letra en la cadena. Los espacios no deben ser considerados.\n",
    "\n",
    "\n",
    "def frecuencias_letras(texto):\n",
    "    texto = texto.replace(\" \", \"\").lower()\n",
    "\n",
    "    frecuencias = {} # creación de un diccionario vacío donde vamos a guardar el número de veces que aparece cada letra.\n",
    "    for letra in texto: # cadena de texto sin espacios y en minúsculas.\n",
    "        if letra in frecuencias:\n",
    "            frecuencias[letra] += 1 # Si la letra ya está en el diccionario, significa que ya la hemos visto antes.\n",
    "        else:\n",
    "            frecuencias[letra] = 1 # Si la letra no está en el diccionario, la agregamos con valor inicial de 1.\n",
    "    return frecuencias # devuelve el diccionario completo con la frecuencia de cada letra.\n",
    "\n",
    "cadena = \"Esto es una prueba\"\n",
    "resultado = frecuencias_letras(cadena)\n",
    "print(resultado)"
   ]
  },
  {
   "cell_type": "code",
   "execution_count": 5,
   "id": "08729f6b",
   "metadata": {},
   "outputs": [
    {
     "name": "stdout",
     "output_type": "stream",
     "text": [
      "[2, 4, 6, 8, 10, 12]\n"
     ]
    }
   ],
   "source": [
    "# 2. Dada una lista de números, obtén una nueva lista con el doble de cada valor. Usa la función map()\n",
    "\n",
    "def duplicar(x):\n",
    "    return x * 2\n",
    "\n",
    "lista_numeros = [1, 2, 3, 4, 5, 6]\n",
    "dobles = list(map(duplicar, lista_numeros))\n",
    "\n",
    "print(dobles)"
   ]
  },
  {
   "cell_type": "code",
   "execution_count": 4,
   "id": "a776c127",
   "metadata": {},
   "outputs": [
    {
     "name": "stdout",
     "output_type": "stream",
     "text": [
      "['parabrisas', 'paracoches', 'paracetamol']\n"
     ]
    }
   ],
   "source": [
    "# 3. Escribe una función que tome una lista de palabras y una palabra objetivo como parámetros. La función debe devolver una lista con todas las palabras de la lista original que contengan la palabra objetivo.\n",
    "\n",
    "def buscar_palabra(lista, objetivo): # en la función definimos la lista de palabras y la subcadena que estamos buscando dentro de cada palabra de la lista.\n",
    "    return [palabra for palabra in lista if objetivo in palabra] # queremos que nos devuelva una lista con cada palabra de lista solo si la subcadena objetivo está dentro de esa palabra.\n",
    "\n",
    "palabras = [\"parabrisas\", \"paracoches\", \"ventana\", \"puerta\", \"paracetamol\"]\n",
    "objetivo = \"para\"\n",
    "\n",
    "resultado = buscar_palabra(palabras, objetivo) \n",
    "print(resultado)"
   ]
  },
  {
   "cell_type": "code",
   "execution_count": null,
   "id": "3d571194",
   "metadata": {},
   "outputs": [
    {
     "name": "stdout",
     "output_type": "stream",
     "text": [
      "[-2, -3, -3, -3, -3]\n",
      "[2, 4]\n"
     ]
    }
   ],
   "source": [
    "# 4. Genera una función que calcule la diferencia entre los valores de dos listas. Usa la función map()\n",
    "# No estoy segura de haber entendido bien si el enunciado indica restar los valores entre las dos listas o encontrar los valores diferentes entre las dos listas. Por lo tanto, he decidido añadir los dos ejemplos. \n",
    "\n",
    "def diferencia_listas(lista1, lista2): # definimos una función que recibe dos parámetros (lista1 y lista2).\n",
    "    def restar(x, y): # dentro de la función, definimos otra función que toma dos argumentos (x e y).\n",
    "        return x - y # nos devuelve la resta x - y.\n",
    "    return list(map(restar, lista1, lista2)) # la función map toma el primer elemento de lista1 y de lista2, aplica la función \"restar\" y genera el resultado. Luego lo repite de manera sucesiva para los otros elementos. \n",
    "    \n",
    "lista1 = [1, 2, 3, 4, 5]\n",
    "lista2 = [3, 5, 6, 7, 8]\n",
    "\n",
    "print(diferencia_listas(lista1, lista2))\n",
    "\n",
    "def valores_diferentes(lista1, lista2): # queremos encontrar los valores diferentes en ambas listas. \n",
    "    def comparar (x, y):\n",
    "        return x if x != y else None # Si x es distinto de y, devuelve x. Si x es igual a y, no devuelve nada. \n",
    "    diferencia = list(map(comparar, lista1, lista2))\n",
    "    return [x for x in diferencia if x is not None]\n",
    "    \n",
    "lista1 = [1, 2, 3, 4]\n",
    "lista2 = [1, 5, 3, 0]\n",
    "\n",
    "print(valores_diferentes(lista1, lista2))\n"
   ]
  },
  {
   "cell_type": "code",
   "execution_count": 22,
   "id": "ca19899e",
   "metadata": {},
   "outputs": [
    {
     "name": "stdout",
     "output_type": "stream",
     "text": [
      "(5.5, 'aprobado')\n",
      "<class 'tuple'>\n"
     ]
    }
   ],
   "source": [
    "# 5. Escribe una función que tome una lista de números como parámetro y un valor opcional nota_aprobado, que por defecto es 5. La función debe calcular la media de los números en la lista y determinar si la media es mayor o igual que nota aprobado. Si es así, el estado será \"aprobado\", de lo contrario, será \"suspenso\". La función debe devolver una tupla que contenga la media y el estado. \n",
    "\n",
    "def evaluar_nota (lista_numeros, nota_aprobado=5): # definimos la función con la lista de notas y el valor de la nota_aprobado que es 5. \n",
    "    media = sum(lista_numeros)/ len(lista_numeros) # calculamos la media de los números en la lista. Dividimos la suma entre la cantidad para obtener la media. \n",
    "    estado = \"aprobado\" if media >= nota_aprobado else \"suspenso\" # Si la media es mayor o igual a 5, entonces es un \"aprobado\". Si no, es un \"suspenso\". \n",
    "    return (media, estado) # la función devuelve una tupla con dos elementos: \"la media\" y \"el estado\".\n",
    "\n",
    "notas = [4, 6, 7, 5]\n",
    "resultado = evaluar_nota(notas) # llamamos la función para aplicarla con nuestra lista de notas. El resultado se guarda en la variable \"resultado\".\n",
    "\n",
    "print(resultado)\n",
    "print(type(resultado))"
   ]
  },
  {
   "cell_type": "code",
   "execution_count": 6,
   "id": "9a1db1e3",
   "metadata": {},
   "outputs": [
    {
     "name": "stdout",
     "output_type": "stream",
     "text": [
      "5! = 120\n"
     ]
    }
   ],
   "source": [
    "# 6. Escribe una función que calcule el factorial de un número de manera recursiva.\n",
    "\n",
    "def factorial(n):\n",
    "    if n == 0:\n",
    "        return 1\n",
    "    return n * factorial(n-1)\n",
    "\n",
    "# Uso:\n",
    "numero = 5\n",
    "print(f\"5! = {factorial(numero)}\")"
   ]
  },
  {
   "cell_type": "code",
   "execution_count": null,
   "id": "3a09edf3",
   "metadata": {},
   "outputs": [
    {
     "name": "stdout",
     "output_type": "stream",
     "text": [
      "Todos los elementos son strings\n",
      "[\"('cielo', 'azul')\", \"('desayuno', 'manzana')\", \"('animal', 'gato')\"]\n"
     ]
    }
   ],
   "source": [
    "# 7. Genera una función que convierta una lista de tuplas a una lista de strings. Usa la función map()\n",
    "\n",
    "def tuplas_strings (lista_tuplas):\n",
    "    lista_strings = list(map(str, lista_tuplas)) # aplicamos la función str a cada elemento de lista_tuplas.\n",
    "    if all(isinstance(elemento, str) for elemento in lista_strings): # añadimos una condicional para verificar que todos los elementos de la lista_tuplas se han convertido en strings. \n",
    "        print(\"Todos los elementos son strings\")\n",
    "    else:\n",
    "        print(\"Hay elementos que no son strings\")\n",
    "    return lista_strings # devolvemos la lista_strings que contiene las tuplas convertidas en strings. \n",
    "\n",
    "lista = [(\"cielo\", \"azul\"), (\"desayuno\", \"manzana\"), (\"animal\", \"gato\")]\n",
    "resultado = tuplas_strings(lista)\n",
    "\n",
    "print(resultado)"
   ]
  },
  {
   "cell_type": "code",
   "execution_count": 32,
   "id": "0970d2cc",
   "metadata": {},
   "outputs": [
    {
     "name": "stdout",
     "output_type": "stream",
     "text": [
      "La división fue exitosa. Resultado: 5.0.\n"
     ]
    }
   ],
   "source": [
    "# 8. Escribe un programa que pida al usuario dos números e intente dividirlos. Si el usuario ingresa un valor no numérico o intenta dividir por cero, maneja esas excepciones de manera adecuada. Asegúrate de mostrar un mensaje indicando si la división fue exitosa o no.\n",
    "\n",
    "def division_numeros():\n",
    "    try: # usamos \"try\" porque las operaciones pueden fallar si el usuario ingresa un valor no númerico o un 0. \n",
    "        numero1 = float(input(\"Ingresa el primer número: \")) # muestra un mensaje y espera que el usuario ingrese algo. Intenta convertir el valor ingresado a un número decimal tipo float. \n",
    "        numero2 = float(input(\"Ingresa el segundo número: \"))\n",
    "        resultado = numero1 / numero2 # división del número1 y número2\n",
    "    except ValueError:\n",
    "        print(\"Error: Debes ingresar valores numéricos válidos.\")\n",
    "    except ZeroDivisionError:\n",
    "        print(\"Error: No se puede dividir por cero.\")\n",
    "    else:\n",
    "        print(f\"La división fue exitosa. Resultado: {resultado}.\")\n",
    "\n",
    "division_numeros()"
   ]
  },
  {
   "cell_type": "code",
   "execution_count": null,
   "id": "b5c1f61e",
   "metadata": {},
   "outputs": [
    {
     "name": "stdout",
     "output_type": "stream",
     "text": [
      "['Perro', 'Gato', 'Conejo', 'Caballo']\n",
      "['Perro', 'Gato', 'Conejo', 'Caballo']\n"
     ]
    }
   ],
   "source": [
    "# 9. Escribe una función que tome una lista de nombres de mascotas como parámetro y devuelva una nueva lista excluyendo ciertas mascotas prohibidas en España. La lista de mascotas a excluir es [\"Mapache\", \"Tigre\", \"Serpiente Pitón\", \"Cocodrilo\", \"Oso\"]. Usa la función filter()\n",
    "\n",
    "def mascotas_permitidas_ES(mascota):\n",
    "    mascotas_prohibidas = [\"Mapache\", \"Tigre\", \"Serpiente Pitón\", \"Cocodrilo\", \"Oso\"] # definimos la lista de mascotas prohibidas en España. \n",
    "    return mascota not in mascotas_prohibidas # permitimos pasar solo las mascotas que no están prohibidas. \n",
    "\n",
    "def filtrar_mascotas(lista_mascotas):\n",
    "    return list(filter(mascotas_permitidas_ES, lista_mascotas)) # filtramos los elementos de la lista_mascotas con las mascotas_permitidas_ES para quedarnos con los animales permitidos en ES. \n",
    "\n",
    "mascotas = [\"Perro\", \"Gato\", \"Tigre\", \"Conejo\", \"Mapache\", \"Caballo\"]\n",
    "resultado = filtrar_mascotas(mascotas)\n",
    "\n",
    "print(resultado)\n",
    "\n",
    "def filtrar_mascotas(lista_mascotas): # añado una segunda opción usando una función lambda para que sea más óptimo. \n",
    "    mascotas_prohibidas = [\"Mapache\", \"Tigre\", \"Serpiente Pitón\", \"Cocodrilo\", \"Oso\"]\n",
    "    return list(filter(lambda mascota: mascota not in mascotas_prohibidas, lista_mascotas)) # filter(función, iterable) recorre todos los elementos de iterable y solo mantiene aquellos para los que la función devuelve True. Se queda solo con las mascotas permitidas. \n",
    "\n",
    "mascotas = [\"Perro\", \"Gato\", \"Tigre\", \"Conejo\", \"Mapache\", \"Caballo\"]\n",
    "resultado = filtrar_mascotas(mascotas)\n",
    "\n",
    "print(resultado)\n"
   ]
  },
  {
   "cell_type": "code",
   "execution_count": null,
   "id": "aef3e343",
   "metadata": {},
   "outputs": [
    {
     "name": "stdout",
     "output_type": "stream",
     "text": [
      "Error: La lista está vacía. No se puede calcular el promedio.\n"
     ]
    }
   ],
   "source": [
    "# 10. Escribe una función que reciba una lista de números y calcule su promedio. Si la lista está vacía, lanza una excepción personalizada y maneja el error adecuadamente.\n",
    "\n",
    "def calcular_promedio(lista):\n",
    "    if len(lista) == 0: # significa que si la lista está vacía, queremos lanzar una excepción \"ValueError\" con un mensaje personalizado. \n",
    "        raise ValueError(\"La lista está vacía. No se puede calcular el promedio.\") # \"raise\" detiene la función y lanza el error. \n",
    "    return sum(lista) / len(lista) # si la lista no está vacía, se calcula el promedio. \n",
    "\n",
    "lista_numeros = []\n",
    "\n",
    "try:\n",
    "    promedio = calcular_promedio(lista_numeros)\n",
    "except ValueError as error: # cuando ocurre la excepción, este bloque captura el error y muestra el mensaje. \n",
    "    print(f\"Error: {error}\")\n",
    "else: # este bloque solo se ejecuta si no ocurre ningún error. \n",
    "    print(f\"El promedio es: {promedio}\")\n"
   ]
  },
  {
   "cell_type": "code",
   "execution_count": 9,
   "id": "0254f48b",
   "metadata": {},
   "outputs": [
    {
     "name": "stdout",
     "output_type": "stream",
     "text": [
      "Edad válida: 15.\n"
     ]
    }
   ],
   "source": [
    "# 11. Escribe un programa que pida al usuario que introduzca su edad. Si el usuario ingresa un valor no numérico o un valor fuera del rango esperado (por ejemplo, menor que 0 o mayor que 120), maneja las excepciones adecuadamente.\n",
    "\n",
    "def edad_usuario():\n",
    "    try:\n",
    "        edad = int(input(\"Introduce tu edad: \"))\n",
    "        if edad < 0 or edad > 120:\n",
    "            raise ValueError(\"La edad debe estar entre 0 y 120.\")\n",
    "    except ValueError as error:\n",
    "        print(f\"Error: {error}\")\n",
    "    else:\n",
    "        print(f\"Edad válida: {edad}.\")\n",
    "\n",
    "edad_usuario()\n",
    "    "
   ]
  },
  {
   "cell_type": "code",
   "execution_count": 46,
   "id": "8a844186",
   "metadata": {},
   "outputs": [
    {
     "name": "stdout",
     "output_type": "stream",
     "text": [
      "[2, 3, 6, 2, 10]\n"
     ]
    }
   ],
   "source": [
    "# 12. Genera una función que al recibir una frase devuelva una lista con la longitud de cada palabra. Usa la función map()\n",
    "\n",
    "def longitud_palabra(frase):\n",
    "    palabras = frase.split() # separa la frase en palabras usando los espacios.\n",
    "    return list(map(len, palabras)) # aplica len() a cada palabra con map()\n",
    "\n",
    "frase = \"Me voy pronto de vacaciones\"\n",
    "resultado = longitud_palabra(frase)\n",
    "\n",
    "print(resultado)"
   ]
  },
  {
   "cell_type": "code",
   "execution_count": null,
   "id": "a9560db7",
   "metadata": {},
   "outputs": [
    {
     "name": "stdout",
     "output_type": "stream",
     "text": [
      "[('O', 'o'), ('D', 'd'), ('S', 's'), ('E', 'e'), ('L', 'l'), ('E', 'e'), ('A', 'a'), ('I', 'i'), ('Á', 'á'), ('B', 'b'), ('P', 'p'), ('T', 't'), ('R', 'r'), ('Z', 'z')]\n",
      "('O', 'o')\n",
      "('D', 'd')\n",
      "('S', 's')\n",
      "('E', 'e')\n",
      "('L', 'l')\n",
      "('E', 'e')\n",
      "('A', 'a')\n",
      "('I', 'i')\n",
      "('Á', 'á')\n",
      "('B', 'b')\n",
      "('P', 'p')\n",
      "('T', 't')\n",
      "('R', 'r')\n",
      "('Z', 'z')\n"
     ]
    }
   ],
   "source": [
    "# 13. Genera una función la cual, para un conjunto de caracteres, devuelva una lista de tuplas con cada letra en mayúsculas y minúsculas. Las letras no pueden estar repetidas .Usa la función map()\n",
    "\n",
    "def convertir_mayus_minus(letra):\n",
    "    return (letra.upper(), letra.lower()) # nos sirve para generar pares de letras con sus dos formas (mayúscula y minúscula).\n",
    "\n",
    "def letras_mayus_minus(cadena):\n",
    "    letras_unicas = set(filter(str.isalpha, cadena)) # filtramos solo letras y eliminamos duplicados.\n",
    "    return list(map(convertir_mayus_minus, letras_unicas))\n",
    "\n",
    "texto = \"El zorro rápido salta sobre el perro perezoso\"\n",
    "resultado = letras_mayus_minus(texto)\n",
    "\n",
    "print(resultado)\n",
    "\n",
    "for tupla in resultado: # mostramos el resultado tupla por tupla\n",
    "    print(tupla)"
   ]
  },
  {
   "cell_type": "code",
   "execution_count": null,
   "id": "5aeb3a89",
   "metadata": {},
   "outputs": [
    {
     "name": "stdout",
     "output_type": "stream",
     "text": [
      "['Perro', 'Pez', 'Paloma', 'Pantera']\n"
     ]
    }
   ],
   "source": [
    "# 14. Crea una función que retorne las palabras de una lista de palabras que comience con una letra en especifico. Usa la función filter()\n",
    "\n",
    "def letra_inicial(lista, letra_objetivo):\n",
    "    letra_objetivo = letra_objetivo.lower() # normalizamos la letra para que la comparación no distingua entre mayúsculas y minúsculas. \n",
    "    \n",
    "    def empieza_por_letra(palabra):\n",
    "        return palabra.lower().startswith(letra_objetivo) # convertimos la palabra a minúsculas y comprobamos que comienza con la letra_objetivo. \n",
    "    \n",
    "    return list(filter(empieza_por_letra, lista)) # recorre cada palabra en la lista y aplica empieza_por_letra. Convertimos el resultado a lista. \n",
    "\n",
    "animales = [\"Perro\", \"Gato\", \"Pez\", \"Paloma\", \"Caballo\", \"Pantera\"]\n",
    "letra = \"p\"\n",
    "\n",
    "resultado = (letra_inicial(animales, letra))\n",
    "print(resultado)"
   ]
  },
  {
   "cell_type": "code",
   "execution_count": null,
   "id": "1b6841ba",
   "metadata": {},
   "outputs": [
    {
     "name": "stdout",
     "output_type": "stream",
     "text": [
      "[4, 7, 10, 13]\n"
     ]
    }
   ],
   "source": [
    "# 15. Crea una función lambda que sume 3 a cada número de una lista dada.\n",
    "\n",
    "sumar_tres = lambda lista: list(map(lambda x: x + 3, lista)) # la función lambda toma el parámetro \"lista\", que es una lista de números. map() aplica una función a cada elemento de una lista. En concreto, le va a sumar 3 a cada número de nuestra lista. Tenemos otra función lambda que toma un número x y le suma 3.\n",
    "\n",
    "lista_numeros = [1, 4, 7, 10]\n",
    "resultado = sumar_tres(lista_numeros)\n",
    "print(resultado)"
   ]
  },
  {
   "cell_type": "code",
   "execution_count": 52,
   "id": "3c5b9fbb",
   "metadata": {},
   "outputs": [
    {
     "name": "stdout",
     "output_type": "stream",
     "text": [
      "['zorro', 'rápido', 'salta', 'sobre', 'perro', 'perezoso']\n"
     ]
    }
   ],
   "source": [
    "# 16. Escribe una función que tome una cadena de texto y un número entero n como parámetros y devuelva una lista de todas las palabras que sean más largas que n. Usa la función filter()\n",
    "\n",
    "def palabras_mas_largas(texto, n):\n",
    "    lista_palabras = texto.split() # separamos el texto en palabras.\n",
    "    \n",
    "    def mas_larga_n(palabra):\n",
    "        return len(palabra) > n # devuelve True si la palabra es más larga que n.\n",
    "    \n",
    "    return list(filter(mas_larga_n, lista_palabras)) # filtramos las palabras más largas que n y lo convertimos a lista. \n",
    "\n",
    "frase = \"El zorro rápido salta sobre el perro perezoso\"\n",
    "resultado = palabras_mas_largas(frase, 4)\n",
    "print(resultado)\n"
   ]
  },
  {
   "cell_type": "code",
   "execution_count": 54,
   "id": "49df02c1",
   "metadata": {},
   "outputs": [
    {
     "name": "stdout",
     "output_type": "stream",
     "text": [
      "572\n"
     ]
    }
   ],
   "source": [
    "# 17. Crea una función que tome una lista de dígitos y devuelva el número correspondiente. Por ejemplo, [5,7,2] corresponde al número quinientos setenta y dos (572). Usa la función reduce()\n",
    "\n",
    "from functools import reduce\n",
    "\n",
    "def combinar_digitos(x, y): # toma dos números y los combina ( 5 y 7 -> 5 * 10 + 7 = 57)\n",
    "    return x * 10 + y\n",
    "\n",
    "def unir_digitos(lista_digitos):\n",
    "    return reduce(combinar_digitos, lista_digitos) # reduce() aplica la función combinar_digitos repetidamente a los elementos de la lista (luego 57 * 10 + 2 = 572).\n",
    "\n",
    "digitos = [5, 7, 2]\n",
    "numero = unir_digitos(digitos)\n",
    "print(numero)\n",
    "\n"
   ]
  },
  {
   "cell_type": "code",
   "execution_count": 6,
   "id": "f9f7855e",
   "metadata": {},
   "outputs": [
    {
     "name": "stdout",
     "output_type": "stream",
     "text": [
      "Estudiantes con calificación mayor o igual a 90:\n",
      "Ana - Edad: 20 - Calificación: 95\n",
      "Gloria - Edad: 21 - Calificación: 91\n",
      "Jorge - Edad: 20 - Calificación: 90\n"
     ]
    }
   ],
   "source": [
    "# 18. Escribe un programa en Python que cree una lista de diccionarios que contenga información de estudiantes (nombre, edad, calificación) y use la función filter para extraer a los estudiantes con una calificación mayor o igual a 90. Usa la función filter()\n",
    "\n",
    "\n",
    "# Lista de dicionarios con datos de estudiantes\n",
    "estudiantes = [\n",
    "    {\"nombre\": \"Ana\", \"edad\": 20, \"calificacion\": 95},\n",
    "    {\"nombre\": \"Jessica\", \"edad\": 22, \"calificacion\": 85},\n",
    "    {\"nombre\": \"Gloria\", \"edad\": 21, \"calificacion\": 91},\n",
    "    {\"nombre\": \"Carlos\", \"edad\": 23, \"calificacion\": 84},\n",
    "    {\"nombre\": \"Jorge\", \"edad\": 20, \"calificacion\": 90}\n",
    "]\n",
    "\n",
    "def calificacion_estudiante(estudiante):\n",
    "    return estudiante[\"calificacion\"] >= 90 # la función verifica si un estudiante tiene un calificación mayor o igual a 90.\n",
    "\n",
    "estudiantes_destacados = list(filter(calificacion_estudiante, estudiantes)) # filtramos los estudiantes que tienen esa calificación. \n",
    "\n",
    "print(\"Estudiantes con calificación mayor o igual a 90:\")\n",
    "for estudiante in estudiantes_destacados:\n",
    "    print(f\"{estudiante['nombre']} - Edad: {estudiante['edad']} - Calificación: {estudiante['calificacion']}\")\n"
   ]
  },
  {
   "cell_type": "code",
   "execution_count": null,
   "id": "b54f4afb",
   "metadata": {},
   "outputs": [
    {
     "name": "stdout",
     "output_type": "stream",
     "text": [
      "Números impares: [1, 3, 5, 7, 9]\n"
     ]
    }
   ],
   "source": [
    "# 19. Crea una función lambda que filtre los números impares de una lista dada.\n",
    "\n",
    "numeros = [1, 2, 3, 4, 5, 6, 7, 8, 9, 10]\n",
    "\n",
    "numeros_impares = list(filter(lambda x: x % 2 != 0, numeros)) # Si el residuo de dividir entre 2 no es cero, entonces el número es impar. \n",
    "\n",
    "print(\"Números impares:\", numeros_impares)"
   ]
  },
  {
   "cell_type": "code",
   "execution_count": 8,
   "id": "78983c19",
   "metadata": {},
   "outputs": [
    {
     "name": "stdout",
     "output_type": "stream",
     "text": [
      "Elementos enteros: [10, 25, 40, 55]\n"
     ]
    }
   ],
   "source": [
    "# 20. Para una lista con elementos tipo integer y string obtén una nueva lista sólo con los valores int. Usa la función filter()\n",
    "\n",
    "lista_elementos = [10, \"hola\", 25, \"gato\", 40, \"perro\", 55]\n",
    "\n",
    "def elemento_integer(elemento):\n",
    "    return isinstance(elemento, int) # con esta función verificamos si el elemento en la lista es un integer.\n",
    "\n",
    "solo_elemento_integer = list(filter(elemento_integer, lista_elementos)) \n",
    "\n",
    "print(\"Elementos enteros:\", solo_elemento_integer)"
   ]
  },
  {
   "cell_type": "code",
   "execution_count": null,
   "id": "760e58b9",
   "metadata": {},
   "outputs": [
    {
     "name": "stdout",
     "output_type": "stream",
     "text": [
      "El cubo de 4 es 64.\n"
     ]
    }
   ],
   "source": [
    "# 21. Crea una función que calcule el cubo de un número dado mediante una función lambda\n",
    "\n",
    "cubo = lambda x: x ** 3 # la expresión x ** 3 multiplica x por sí mismo tres veces. \n",
    "\n",
    "numero = 4\n",
    "resultado = cubo(numero)\n",
    "print (f\"El cubo de {numero} es {resultado}.\")"
   ]
  },
  {
   "cell_type": "code",
   "execution_count": null,
   "id": "5364ef90",
   "metadata": {},
   "outputs": [
    {
     "name": "stdout",
     "output_type": "stream",
     "text": [
      "Producto total: 120\n"
     ]
    }
   ],
   "source": [
    "# 22. Dada una lista numérica, obtén el producto total de los valores de dicha lista.Usa la función reduce()\n",
    "\n",
    "#Si aún no hemos importado la función reduce() de functools:\n",
    "from functools import reduce\n",
    "\n",
    "numeros = [2, 3, 4, 5]\n",
    "\n",
    "def multiplicar(x, y):\n",
    "    return x * y # definimos la función que mulitiplica dos números.\n",
    "\n",
    "producto_total = reduce(multiplicar, numeros) # la función reduce() nos sirve para aplicarlo a la lista entera.\n",
    "\n",
    "print(\"Producto total:\", producto_total)"
   ]
  },
  {
   "cell_type": "code",
   "execution_count": 15,
   "id": "7cd72c49",
   "metadata": {},
   "outputs": [
    {
     "name": "stdout",
     "output_type": "stream",
     "text": [
      "Hoy es Viernes\n"
     ]
    }
   ],
   "source": [
    "# 23. Concatena una lista de palabras.Usa la función reduce()\n",
    "\n",
    "lista_palabras = [\"Hoy\", \"es\", \"Viernes\"]\n",
    "\n",
    "def concatenar(x, y):\n",
    "    return x + \" \" + y # definimos la función que concatena dos palabras con un espacio. \n",
    "\n",
    "frase = reduce(concatenar, lista_palabras)\n",
    "\n",
    "print(frase)\n"
   ]
  },
  {
   "cell_type": "code",
   "execution_count": 14,
   "id": "82fffee0",
   "metadata": {},
   "outputs": [
    {
     "name": "stdout",
     "output_type": "stream",
     "text": [
      "Diferencia total: 65\n"
     ]
    }
   ],
   "source": [
    "# 24. Calcula la diferencia total en los valores de una lista. Usa la función reduce()\n",
    "\n",
    "numeros = [100, 20, 10, 5]\n",
    "\n",
    "def resta(x, y):\n",
    "    return x - y\n",
    "\n",
    "diferencia_total = reduce(resta, numeros)\n",
    "\n",
    "print(\"Diferencia total:\", diferencia_total)"
   ]
  },
  {
   "cell_type": "code",
   "execution_count": null,
   "id": "69f737c9",
   "metadata": {},
   "outputs": [
    {
     "name": "stdout",
     "output_type": "stream",
     "text": [
      "La cadena tiene 15 caracteres.\n"
     ]
    }
   ],
   "source": [
    "# 25. Crea una función que cuente el número de caracteres en una cadena de texto dada.\n",
    "\n",
    "def numero_caracteres(cadena):\n",
    "    return len(cadena) # la función len() devuelve la cantidad de caracteres en una cadena. \n",
    "\n",
    "frase = \"Hoy es Viernes.\"\n",
    "cantidad = numero_caracteres(frase)\n",
    "\n",
    "print(f\"La cadena tiene {cantidad} caracteres.\")"
   ]
  },
  {
   "cell_type": "code",
   "execution_count": null,
   "id": "d40efdc7",
   "metadata": {},
   "outputs": [
    {
     "name": "stdout",
     "output_type": "stream",
     "text": [
      "El resto de dividir 17 entre 5 es 2.\n"
     ]
    }
   ],
   "source": [
    "# 26. Crea una función lambda que calcule el resto de la división entre dos números dados.\n",
    "\n",
    "resto = lambda x, y: x % y # x % y devuelve el resto de dividir x entre y. \n",
    "\n",
    "a = 17\n",
    "b = 5\n",
    "resultado = resto(a, b)\n",
    "\n",
    "print(f\"El resto de dividir {a} entre {b} es {resultado}.\")"
   ]
  },
  {
   "cell_type": "code",
   "execution_count": 10,
   "id": "6e704ed3",
   "metadata": {},
   "outputs": [
    {
     "name": "stdout",
     "output_type": "stream",
     "text": [
      "El promedio es: 30.0.\n"
     ]
    }
   ],
   "source": [
    "# 27. Crea una función que calcule el promedio de una lista de números.\n",
    "\n",
    "def calcular_promedio_opcional(lista):\n",
    "    if len(lista) == 0:\n",
    "        return 0 # para evitar que se divida por 0.\n",
    "    return sum(lista) / len(lista)\n",
    "\n",
    "lista_numeros = [10, 20, 30, 40, 50]\n",
    "promedio = calcular_promedio_opcional(lista_numeros)\n",
    "\n",
    "print(f\"El promedio es: {promedio}.\")"
   ]
  },
  {
   "cell_type": "code",
   "execution_count": null,
   "id": "f21919a2",
   "metadata": {},
   "outputs": [
    {
     "name": "stdout",
     "output_type": "stream",
     "text": [
      "Primer duplicado encontrado: 7.\n"
     ]
    }
   ],
   "source": [
    "# 28. Crea una función que busque y devuelva el primer elemento duplicado en una lista dada.\n",
    "\n",
    "def primer_duplicado(lista):\n",
    "    elementos_vistos = set() # creamos un conjunto vacío llamado elementos_vistos. Usamos esto para guardar los elementos  que ya han aparecido sin repetirlos. \n",
    "    for elemento in lista: # empezamos un bucle que recorre cada elemento de la lista uno por uno. \n",
    "        if elemento in elementos_vistos: # verificamos si el elemento ya está. Si sí, entonces es un duplicado. \n",
    "            return elemento # esto hace que la función se detenga en cuanto encuentra el primer duplicado. \n",
    "        elementos_vistos.add(elemento) # agregamos el elemento al conjunto. \n",
    "    return None # si el bucle termina y no hay ningun duplicado, la función devuelve None. \n",
    "\n",
    "mi_lista = [4, 7, 2, 9, 7, 5, 4]\n",
    "\n",
    "resultado = primer_duplicado(mi_lista)\n",
    "\n",
    "if resultado is not None:\n",
    "    print(f\"Primer duplicado encontrado: {resultado}.\")\n",
    "else:\n",
    "    print(\"No hay duplicados en la lista.\")"
   ]
  },
  {
   "cell_type": "code",
   "execution_count": 26,
   "id": "b763666d",
   "metadata": {},
   "outputs": [
    {
     "name": "stdout",
     "output_type": "stream",
     "text": [
      "#####6789\n"
     ]
    }
   ],
   "source": [
    "# 29. Crea una función que convierta una variable en una cadena de texto y enmascare todos los caracteres con el carácter '#', excepto los últimos cuatro.\n",
    "\n",
    "def enmascarar_variable(variable):\n",
    "    cadena = str(variable) # convertir la variable a cadena de texto.\n",
    "    longitud = len(cadena) # calcula la cantidad de caracteres que tiene la cadena. \n",
    "    if longitud <= 4:\n",
    "        return cadena # no se enmascara si tiene 4 o menos caracteres. \n",
    "    return '#' * (longitud -4) + cadena[-4:] # creamos una cadena de # con la cantidad necesaria para ocultar todos menos los últimos 4 caracteres. Con cadena[-4], usamos el indexado negativo para obtener los últimos 4 caracteres de la cadena. \n",
    "\n",
    "print(enmascarar_variable(123456789))"
   ]
  },
  {
   "cell_type": "code",
   "execution_count": 13,
   "id": "918fd760",
   "metadata": {},
   "outputs": [
    {
     "name": "stdout",
     "output_type": "stream",
     "text": [
      "True\n",
      "False\n"
     ]
    }
   ],
   "source": [
    "# 30. Crea una función que determine si dos palabras son anagramas, es decir, si están formadas por las mismas letras pero en diferente orden.\n",
    "\n",
    "def anagramas(palabra1, palabra2):\n",
    "    palabra1 = palabra1.replace(\" \", \"\").lower()\n",
    "    palabra2 = palabra2.replace(\" \", \"\").lower()\n",
    "    return sorted(palabra1) == sorted(palabra2) \n",
    "\n",
    "print(anagramas(\"Roma\", \"Amor\"))\n",
    "print(anagramas(\"Hola\", \"Hello\"))"
   ]
  },
  {
   "cell_type": "code",
   "execution_count": 9,
   "id": "cad5fcb5",
   "metadata": {},
   "outputs": [
    {
     "name": "stdout",
     "output_type": "stream",
     "text": [
      "✅ El nombre 'marta' fue encontrado en la lista.\n"
     ]
    }
   ],
   "source": [
    "# 31. Crea una función que solicite al usuario ingresar una lista de nombres y luego solicite un nombre para buscar en esa lista. Si el nombre está en la lista, se imprime un mensaje indicando que fue encontrado, de lo contrario, se lanza una excepción.\n",
    "\n",
    "def buscar_nombre():\n",
    "    try:\n",
    "        entrada = input(\"Ingresa una lista de nombres, separados por comas: \")\n",
    "        lista_nombres = [nombre.strip().lower() for nombre in entrada.split(\",\")] # convertimos la entrada en una lista, quitando espacios extra\n",
    "        nombre_buscar = input(\"Ingresa el nombre que deseas buscar: \").strip().lower()\n",
    "        \n",
    "        if nombre_buscar in lista_nombres:\n",
    "            print(f\"✅ El nombre '{nombre_buscar}' fue encontrado en la lista.\")\n",
    "        else: \n",
    "            raise ValueError(f\"❌ El nombre '{nombre_buscar}' no se encuentra en la lista.\")\n",
    "    except ValueError as error:\n",
    "        print(\"Error:\", error)\n",
    "        \n",
    "buscar_nombre()\n"
   ]
  },
  {
   "cell_type": "code",
   "execution_count": null,
   "id": "6899cb68",
   "metadata": {},
   "outputs": [
    {
     "name": "stdout",
     "output_type": "stream",
     "text": [
      "Luis Gómez trabaja como Desarrollador Backend.\n",
      "Carlos Torres no trabaja aquí.\n"
     ]
    }
   ],
   "source": [
    "# 32. Crea una función que tome un nombre completo y una lista de empleados, busque el nombre completo en la lista y devuelve el puesto del empleado si está en la lista, de lo contrario, devuelve un mensaje indicando que la persona no trabaja aquí.\n",
    "\n",
    "def obtener_puesto(nombre_completo, empleados):\n",
    "    for empleado in empleados: # recorremos uno a uno todos los elementos de la lista empleados.\n",
    "        if empleado['nombre'].lower() == nombre_completo.lower(): # aquí comparamos el nombre del empleado actual con el nombre_completo que estamos buscando. Convertimos ambos nombres a minúsculas. \n",
    "            return f\"{empleado['nombre']} trabaja como {empleado['puesto']}.\" # Si la condición se cumple, la función devuelve una cadena con el nombre y el puesto del empleado. \n",
    "    return f\"{nombre_completo} no trabaja aquí.\" # Si no encontramos coincidencia, el return nos indica que el empleado no trabaja aquí. \n",
    "\n",
    "lista_empleados = [\n",
    "    {'nombre': 'Ana Pérez', 'puesto': 'Gerente de Ventas'},\n",
    "    {'nombre': 'Luis Gómez', 'puesto': 'Desarrollador Backend'},\n",
    "    {'nombre': 'Marta Rodríguez', 'puesto': 'Diseñadora Gráfica'}\n",
    "]\n",
    "\n",
    "print(obtener_puesto('Luis Gómez', lista_empleados))\n",
    "print(obtener_puesto('Carlos Torres', lista_empleados))"
   ]
  },
  {
   "cell_type": "code",
   "execution_count": 4,
   "id": "34d1888c",
   "metadata": {},
   "outputs": [
    {
     "name": "stdout",
     "output_type": "stream",
     "text": [
      "[5, 7, 9]\n"
     ]
    }
   ],
   "source": [
    "# 33. Crea una función lambda que sume elementos correspondientes de dos listas dadas.\n",
    "\n",
    "sumar_listas = lambda lista1, lista2: list(map(lambda x, y: x + y, lista1, lista2))\n",
    "\n",
    "lista1 = [1, 2, 3]\n",
    "lista2 = [4, 5, 6]\n",
    "\n",
    "resultado = sumar_listas(lista1, lista2)\n",
    "print(resultado)"
   ]
  },
  {
   "cell_type": "code",
   "execution_count": null,
   "id": "e89229e5",
   "metadata": {},
   "outputs": [
    {
     "name": "stdout",
     "output_type": "stream",
     "text": [
      "{'longitud_tronco': 2, 'numero_ramas': 2, 'longitudes_ramas': [2, 1]}\n"
     ]
    }
   ],
   "source": [
    "''' 34. Crea la clase Arbol , define un árbol genérico con un tronco y ramas como atributos. Los métodos disponibles son:\n",
    "crecer_tronco , nueva_rama , crecer_ramas , quitar_rama e info_arbol . El objetivo es implementar estos métodos para\n",
    "manipular la estructura del árbol.\n",
    "\n",
    "Código a seguir:\n",
    "1. Inicializar un árbol con un tronco de longitud 1 y una lista vacía de ramas.\n",
    "2. Implementar el método crecer_tronco para aumentar la longitud del tronco en una unidad.\n",
    "3. Implementar el método nueva_rama para agregar una nueva rama de longitud 1 a la lista de ramas.\n",
    "4. Implementar el método crecer_ramas para aumentar en una unidad la longitud de todas las ramas existentes.\n",
    "5. Implementar el método quitar_rama para eliminar una rama en una posición específica.\n",
    "6. Implementar el método info_arbol para devolver información sobre la longitud del tronco, el número de ramas y las longitudes de las\n",
    "mismas.\n",
    "\n",
    "Caso de uso:\n",
    "1. Crear un árbol.\n",
    "2. Hacer crecer el tronco del árbol una unidad.\n",
    "3. Añadir una nueva rama al árbol.\n",
    "4. Hacer crecer todas las ramas del árbol una unidad.\n",
    "5. Añadir dos nuevas ramas al árbol.\n",
    "6. Retirar la rama situada en la posición 2.\n",
    "7. Obtener información sobre el árbol.\n",
    "'''\n",
    "\n",
    "class Arbol:\n",
    "    def __init__(self):\n",
    "        self.tronco = 1 # el tronco tiene un valor inicial de 1. Empezamos con una longitud de 1 unidad.\n",
    "        self.ramas = [] # asignamos al atributo ramas una lista vacía []. El árbol comienza sin ramas. \n",
    "    \n",
    "    def crecer_tronco(self):\n",
    "        self.tronco += 1 # abreviacón en Python para decir self.tronco = self.tronco + 1.\n",
    "    \n",
    "    def nueva_rama(self):\n",
    "        self.ramas.append(1) # añadimos una nueva rama a la lista de ramas. \n",
    "    \n",
    "    def crecer_ramas(self):\n",
    "        self.ramas = [rama + 1 for rama in self.ramas] # recorremos cada elemento de la lista self.ramas y le sumamos 1 a los valores actuales. Se reemplaza la lista original por la nueva lista con las longitudes actualizadas. \n",
    "    \n",
    "    def quitar_rama(self, posicion):\n",
    "        if 0 <= posicion < len(self.ramas): # nos aseguramos que la posición que se quiere eliminar no es negativa. Verificamos que la posición existe dentro de la lista. Si ambas condiciones se cumplen, se puede eliminar la rama. \n",
    "            del self.ramas[posicion] # elimina la rama ubicada en la posición indicada. \n",
    "        else:\n",
    "            print(\"Posición inválida. No se puede quitar la rama.\")\n",
    "    \n",
    "    def info_arbol(self):\n",
    "        return {\n",
    "            \"longitud_tronco\": self.tronco,\n",
    "            \"numero_ramas\": len(self.ramas),\n",
    "            \"longitudes_ramas\": self.ramas\n",
    "        }\n",
    "# 1.Crear un árbol\n",
    "mi_arbol = Arbol()\n",
    "\n",
    "# 2.Hacer crecer el tronco una unidad\n",
    "mi_arbol.crecer_tronco()\n",
    "\n",
    "# 3.Añadir una nueva rama al árbol\n",
    "mi_arbol.nueva_rama()\n",
    "\n",
    "# 4. Hacer crecer todas las ramas del árbol una unidad\n",
    "mi_arbol.crecer_ramas()\n",
    "\n",
    "# 5. Añadir dos nuevas ramas al árbol\n",
    "mi_arbol.nueva_rama()\n",
    "mi_arbol.nueva_rama()\n",
    "\n",
    "# 6. Retirar la rama situada en la posición 2\n",
    "mi_arbol.quitar_rama(2)\n",
    "\n",
    "# 7. Obtener información sobre el árbol\n",
    "info = mi_arbol.info_arbol()\n",
    "print(info)\n",
    "\n",
    "\n"
   ]
  },
  {
   "cell_type": "code",
   "execution_count": 28,
   "id": "07267b8f",
   "metadata": {},
   "outputs": [
    {
     "name": "stdout",
     "output_type": "stream",
     "text": [
      "Error en la transferencia: Roberto no tiene suficiente saldo para transferir 80.\n",
      "Alicia: Saldo = 50, Cuenta corriente = True\n",
      "Roberto: Saldo = 70, Cuenta corriente = True\n"
     ]
    }
   ],
   "source": [
    "''' 36. Crea la clase UsuarioBanco ,representa a un usuario de un banco con su nombre, saldo y si tiene o no cuenta\n",
    "corriente. Proporciona métodos para realizar operaciones como retirar dinero, transferir dinero desde otro usuario y\n",
    "agregar dinero al saldo.\n",
    "\n",
    "Código a seguir:\n",
    "1. Inicializar un usuario con su nombre, saldo y si tiene o no cuenta corriente mediante True y False.\n",
    "2. Implementar el método retirar_dinero para retirar dinero del saldo del usuario. Lanzará un error en caso de no\n",
    "poder hacerse.\n",
    "3. Implementar el método transferir_dinero para realizar una transferencia desde otro usuario al usuario actual.\n",
    "Lanzará un error en caso de no poder hacerse.\n",
    "4. Implementar el método agregar_dinero para agregar dinero al saldo del usuario.\n",
    "\n",
    "Caso de uso:\n",
    "1. Crear dos usuarios: \"Alicia\" con saldo inicial de 100 y \"Bob\" con saldo inicial de 50, ambos con cuenta corriente.\n",
    "2. Agregar 20 unidades de saldo de \"Bob\".\n",
    "3. Hacer una transferencia de 80 unidades desde \"Bob\" a \"Alicia\".\n",
    "4. Retirar 50 unidades de saldo a \"Alicia\".\n",
    "'''\n",
    "\n",
    "class UsuarioBanco:\n",
    "    def __init__(self, nombre, saldo, cuenta_corriente):\n",
    "        self.nombre = nombre\n",
    "        self.saldo = saldo\n",
    "        self.cuenta_corriente = cuenta_corriente\n",
    "    \n",
    "    def retirar_dinero(self, cantidad): # cantidad es el monto de dinero que el usuario quiere retirar. \n",
    "        if cantidad <= 0: # tenemos que verificar que la cantidad a retirar es mayor que cero. \n",
    "            raise ValueError(\"La cantidad a retirar debe ser mayor que 0.\")\n",
    "        if cantidad > self.saldo: # revisamos si el usuario tiene suficiente dinero para retirar esa cantidad. \n",
    "            raise ValueError(f\"{self.nombre} no tiene suficiente saldo para retirar {cantidad}.\")\n",
    "        self.saldo -= cantidad # restamos el valor de cantidad al valor actual de self.saldo\n",
    "    \n",
    "    def transferir_dinero(self, otro_usuario, cantidad):\n",
    "        if cantidad <= 0:\n",
    "            raise ValueError(\"La cantidad a retirar debe ser mayor que 0.\")\n",
    "        if cantidad > otro_usuario.saldo: # verificamos si el usuarion que envia dinero tiene suficiente saldo. \n",
    "            raise ValueError(f\"{otro_usuario.nombre} no tiene suficiente saldo para transferir {cantidad}.\")\n",
    "        otro_usuario.saldo -= cantidad # descontamos dinero al usuario que envía la transferencia. \n",
    "        self.saldo += cantidad # el usuario actual recibe el dinero. Se le suma esa cantidad a su saldo.\n",
    "    \n",
    "    def agregar_dinero(self, cantidad):\n",
    "        if cantidad <= 0:\n",
    "            raise ValueError(\"La cantidad a agregar debe ser mayor que 0.\")\n",
    "        self.saldo += cantidad\n",
    "        \n",
    "    def __str__(self):\n",
    "        return f\"{self.nombre}: Saldo = {self.saldo}, Cuenta corriente = {self.cuenta_corriente}\"\n",
    "    \n",
    "alicia = UsuarioBanco(\"Alicia\", 100, True)\n",
    "roberto = UsuarioBanco(\"Roberto\", 50, True)\n",
    "\n",
    "roberto.agregar_dinero(20)\n",
    "try:\n",
    "    alicia.transferir_dinero(roberto, 80)\n",
    "except ValueError as e:\n",
    "    print(\"Error en la transferencia:\", e)\n",
    "try:\n",
    "    alicia.retirar_dinero(50)\n",
    "except ValueError as e:\n",
    "    print(\"Error al retirar dinero:\", e)\n",
    "\n",
    "print(alicia)\n",
    "print(roberto)\n",
    "    "
   ]
  },
  {
   "cell_type": "code",
   "execution_count": null,
   "id": "c1440a93",
   "metadata": {},
   "outputs": [
    {
     "name": "stdout",
     "output_type": "stream",
     "text": [
      "Contar palabras: {'hoy': 1, 'es': 1, 'martes': 1, 'y': 1, 'hace': 1, 'mucho': 1, 'calor': 1}\n",
      "Reemplazo: Hoy es miércoles y hace mucho calor.\n",
      "Eliminado: es martes y hace mucho calor.\n"
     ]
    }
   ],
   "source": [
    "''' 37. Crea una función llamada procesar_texto que procesa un texto según la opción especificada: contar_palabras ,reemplazar_palabras , eliminar_palabra . Estas opciones son otras funciones que tenemos que definir primero y llamar dentro\n",
    "de la función procesar_texto.\n",
    "\n",
    "Código a seguir:\n",
    "1. Crear una función contar_palabras para contar el número de veces que aparece cada palabra en el texto. Tiene\n",
    "que devolver un diccionario.\n",
    "2. Crear una función reemplazar_palabras para remplazar una palabra_original del texto por una palabra_nueva . Tiene que devolver el texto con el remplazo de palabras.\n",
    "3. Crear una función eliminar_palabra para eliminar una palabra del texto. Tiene que devolver el texto con la palabra eliminada.\n",
    "4. Crear la función procesar_texto que tome un texto, una opción(entre \"contar\", \"reemplazar\", \"eliminar\") y un número de argumentos variable según la opción indicada.\n",
    "\n",
    "Caso de uso:\n",
    "Comprueba el funcionamiento completo de la función procesar_texto\n",
    "'''\n",
    "\n",
    "def contar_palabras(texto):\n",
    "    palabras = texto.split() # dividimos el texto en palabras para poder contarlo\n",
    "    contador = {} # usamos un diccionario para contar las repeticiones de cada palabra. \n",
    "    for palabra in palabras:\n",
    "        palabra_limpia = palabra.strip(\".,;:!?()\").lower() # limpiamos los signos de puntuación y convertimos todo a minúsculas. \n",
    "        if palabra_limpia in contador: # verificamos si la palabra ya está en el diccionario contador. \n",
    "            contador[palabra_limpia] += 1 # Si ya está, aumenta su cuenta en 1. \n",
    "        else:\n",
    "            contador[palabra_limpia] = 1 # Si no está, la agrega al diccionario con valor 1. \n",
    "    return contador\n",
    "\n",
    "def reemplazar_palabras(texto, palabra_original, palabra_nueva): # reemplazamos todas las apariciones de una palabra por otra. \n",
    "    return texto.replace(palabra_original, palabra_nueva)\n",
    "\n",
    "def eliminar_palabra(texto, palabra_a_eliminar):\n",
    "    palabras = texto.split() # dividimos el texto en palabras. \n",
    "    resultado = [p for p in palabras if p != palabra_a_eliminar] # recorremos cada palabra p en la lista palabras. Solo incluye p en la nueva lista si no es igual a palabra_eliminar.\n",
    "    return ' '.join(resultado) # unimos las palabras de nuevo con .join()\n",
    "\n",
    "def procesar_texto(texto, opcion, *args): # tenemos una función principal que toma texto, una opción (\"contar\", \"reemplazar\" o \"eliminar\") y luego ejecuta la función correspondiente dependiendo de esa opción.\n",
    "    if opcion == \"contar\": # Si el usuario elige \"contar\", se llama directamente a la función \"contar_palabras(texto).\n",
    "        return contar_palabras(texto)\n",
    "    elif opcion == \"reemplazar\": # Si el usuario elige esta opción, se esperan dos argumentos adicionales (palabra_original, palabra_nueva). Si no se pasan exactamente 2, lanza un error con raise ValueError(...).\n",
    "        if len(args) != 2:\n",
    "            raise ValueError(\"Se requieren dos argumentos: palabra_original y palabra_nueva\")\n",
    "        return reemplazar_palabras(texto, args[0], args[1]) # Si están bien, llama a reemplazar_palabras(texto, palabra_original, palabra_nueva) usando args[0] y args[1].\n",
    "    elif opcion == \"eliminar\":\n",
    "        if len(args) != 1: \n",
    "            raise ValueError(\"Se requiere un argumento: palabra_a_eliminar\")\n",
    "        return eliminar_palabra(texto, args[0])\n",
    "    else:\n",
    "        raise ValueError(\"Opción no válida. Usa 'contar', 'reemplazar' o 'eliminar'.\")\n",
    "    \n",
    "texto = \"Hoy es martes y hace mucho calor.\"\n",
    "\n",
    "resultado1 = procesar_texto(texto, \"contar\")\n",
    "print(\"Contar palabras:\", resultado1)\n",
    "\n",
    "resultado2 = procesar_texto(texto, \"reemplazar\", \"martes\", \"miércoles\")\n",
    "print(\"Reemplazo:\", resultado2)\n",
    "\n",
    "resultado3 = procesar_texto(texto, \"eliminar\", \"Hoy\")\n",
    "print(\"Eliminado:\", resultado3)\n"
   ]
  },
  {
   "cell_type": "code",
   "execution_count": null,
   "id": "1ce453a8",
   "metadata": {},
   "outputs": [
    {
     "name": "stdout",
     "output_type": "stream",
     "text": [
      "Es de tarde\n"
     ]
    }
   ],
   "source": [
    "# 38. Genera un programa que nos diga si es de noche, de día o tarde según la hora proporcionada por el usuario.\n",
    "\n",
    "def clasificar_momento_dia(hora):\n",
    "    if 6 <= hora < 12: # Si la hora está entre 6 (incluido) y 12 (no incluido), es de mañana.\n",
    "        return \"Es de día (mañana)\"\n",
    "    elif 12 <= hora < 18: # Si la hora está entre 12 (incluido) y 18 (no incluido), es tarde.\n",
    "        return \"Es de tarde\"\n",
    "    elif 18 <= hora <= 23 or 0 <= hora < 6: # Si la hora está entre 18 (inluido) a 23:59 o entre 00:00 a 5:59. \n",
    "        return \"Es de noche\"\n",
    "    else:\n",
    "        return \"Hora no válida. Debe estar entre 0 y 23.\"\n",
    "\n",
    "try:\n",
    "    hora = int(input(\"Introduce la hora (entre 0 y 23): \"))\n",
    "    mensaje = clasificar_momento_dia(hora)\n",
    "    print(mensaje)\n",
    "except ValueError:\n",
    "    print(\"Error: Por favor, introduce un número entero válido entre 0 y 23.\")"
   ]
  },
  {
   "cell_type": "code",
   "execution_count": 4,
   "id": "a389a257",
   "metadata": {},
   "outputs": [
    {
     "name": "stdout",
     "output_type": "stream",
     "text": [
      "Clasificación en texto: Bien\n"
     ]
    }
   ],
   "source": [
    "''' 39. Escribe un programa que determine qué calificación en texto tiene un alumno en base a su calificación numérica.\n",
    "Las reglas de calificación son:\n",
    "- 0 - 69 insuficiente\n",
    "- 70 - 79 bien\n",
    "- 80 - 89 muy bien\n",
    "- 90 - 100 excelente\n",
    "'''\n",
    "\n",
    "def clasificar_calificacion(nota):\n",
    "    if 0 <= nota <= 69:\n",
    "        return \"Insuficiente\"\n",
    "    elif 70 <= nota <= 79:\n",
    "        return \"Bien\"\n",
    "    elif 80 <= nota <= 89:\n",
    "        return \"Muy bien\"\n",
    "    elif 90 <= nota <= 100:\n",
    "        return \"Excelente\"\n",
    "    else:\n",
    "        return \"Calificación no válida. Debe estar entre 0 y 100.\"\n",
    "    \n",
    "try:\n",
    "    entrada = input(\"Introduce la calificación del alumno (0 a 100): \")\n",
    "    nota = float(entrada) # aceptamos también valors como 75.5 al convertirlo a float. \n",
    "    resultado = clasificar_calificacion(nota)\n",
    "    print(f\"Clasificación en texto: {resultado}\")\n",
    "except ValueError:\n",
    "    print(\"Error: Debes ingresar un número válido entre 0 y 100.\")"
   ]
  },
  {
   "cell_type": "code",
   "execution_count": 9,
   "id": "7e39696c",
   "metadata": {},
   "outputs": [
    {
     "name": "stdout",
     "output_type": "stream",
     "text": [
      "50\n",
      "28.274333882308138\n",
      "12.0\n",
      "Figura no válida. Usa 'rectangulo', 'circulo' o 'triangulo'.\n",
      "Error: El círculo necesita solo el radio.\n"
     ]
    }
   ],
   "source": [
    "# 40. Escribe una función que tome dos parámetros: figura (una cadena que puede ser \"rectangulo\", \"circulo\" o \"triangulo\" ) y datos (una tupla con los datos necesarios para calcular el área de la figura).\n",
    "\n",
    "import math # importamos el módulo math\n",
    "\n",
    "def calcular_area(figura, datos):\n",
    "    figura = figura.lower() # permite que el usuario pueda escribir en mayúsculas y minúsculas.\n",
    "    \n",
    "    if figura == \"rectangulo\":\n",
    "        if len(datos) != 2: # verificamos que datos tenga exactamente 2 elementos: base y altura. \n",
    "            return \"Error: El réctangulo necesita base y altura.\"\n",
    "        base, altura = datos\n",
    "        return base * altura\n",
    "    \n",
    "    elif figura == \"circulo\":\n",
    "        if len(datos) != 1: # esperamos solo un dato, el radio. \n",
    "            return \"Error: El círculo necesita solo el radio.\"\n",
    "        radio = datos[0]\n",
    "        return math.pi * radio**2 # usamos math.pi para obtener el valor de π.\n",
    "    \n",
    "    elif figura == \"triangulo\":\n",
    "        if len(datos) != 2:\n",
    "            return \"Error: El triángulo necesita base y altura.\"\n",
    "        base, altura = datos\n",
    "        return (base * altura) / 2\n",
    "    \n",
    "    else:\n",
    "        return \"Figura no válida. Usa 'rectangulo', 'circulo' o 'triangulo'.\"\n",
    "    \n",
    "print(calcular_area(\"rectangulo\",(10, 5)))\n",
    "print(calcular_area(\"circulo\", (3,)))\n",
    "print(calcular_area(\"triangulo\", (6, 4)))\n",
    "print(calcular_area(\"cuadrado\", (5,)))\n",
    "print(calcular_area(\"circulo\", ()))"
   ]
  },
  {
   "cell_type": "code",
   "execution_count": null,
   "id": "37d24874",
   "metadata": {},
   "outputs": [
    {
     "name": "stdout",
     "output_type": "stream",
     "text": [
      "El valor del cupón no es válido. Ne se aplicará descuento.\n",
      "El precio final es: 20.00 Euros\n"
     ]
    }
   ],
   "source": [
    "''' 41. En este ejercicio, se te pedirá que escribas un programa en Python que utilice condicionales para determinar el\n",
    "monto final de una compra en una tienda en línea, después de aplicar un descuento. El programa debe hacer lo\n",
    "siguiente:\n",
    "1. Solicita al usuario que ingrese el precio original de un artículo.\n",
    "2. Pregunta al usuario si tiene un cupón de descuento (respuesta sí o no).\n",
    "3. Si el usuario responde que sí, solicita que ingrese el valor del cupón de descuento.\n",
    "4. Aplica el descuento al precio original del artículo, siempre y cuando el valor del cupón sea válido (es decir, mayor\n",
    "a cero). Por ejemplo, descuento de 15€.\n",
    "5. Muestra el precio final de la compra, teniendo en cuenta el descuento aplicado o sin él.\n",
    "6. Recuerda utilizar estructuras de control de flujo como if, elif y else para llevar a cabo estas acciones en tu\n",
    "programa de Python.\n",
    "'''\n",
    "\n",
    "precio_original = float(input(\"Ingresa el precio original del artículo (Euros): \")) # convertimos la entrada del usuario (texto) a un número decimal.\n",
    "\n",
    "tiene_cupon = input(\"¿Tienes un cupón de descuento? (sí o no): \").strip().lower() # eliminamos espacios en blanco al principio y al final. Convertimos el texto a minúsculas. \n",
    "\n",
    "if tiene_cupon == \"sí\" or tiene_cupon == \"si\": # aceptamos tanto sí como si. \n",
    "    valor_cupon = float(input(\"Ingresa el valor del cupón (Euros): \"))\n",
    "    if valor_cupon > 0:\n",
    "        precio_final = precio_original - valor_cupon\n",
    "        if precio_final < 0:\n",
    "            precio_final = 0 # para evitar precios negativos.\n",
    "        print(f\"Se ha aplicado un descuento de {valor_cupon} Euros. El precio final es: {precio_final:.2f} Euros\") # :.2f muestra el precio con dos decimales.\n",
    "    else:\n",
    "        print(\"El valor del cupón no es válido. Ne se aplicará descuento.\")\n",
    "        print(f\"El precio final es: {precio_original:.2f} Euros\")\n",
    "else:\n",
    "    print(f\"No se ha aplicado ningún descuento. El precio final es: {precio_original:.2f} Euros\")"
   ]
  }
 ],
 "metadata": {
  "kernelspec": {
   "display_name": "Python 3",
   "language": "python",
   "name": "python3"
  },
  "language_info": {
   "codemirror_mode": {
    "name": "ipython",
    "version": 3
   },
   "file_extension": ".py",
   "mimetype": "text/x-python",
   "name": "python",
   "nbconvert_exporter": "python",
   "pygments_lexer": "ipython3",
   "version": "3.9.6"
  }
 },
 "nbformat": 4,
 "nbformat_minor": 5
}
